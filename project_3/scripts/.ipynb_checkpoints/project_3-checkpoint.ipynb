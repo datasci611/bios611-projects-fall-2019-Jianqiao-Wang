{
 "cells": [
  {
   "cell_type": "code",
   "execution_count": 1,
   "metadata": {},
   "outputs": [],
   "source": [
    "# packages for data processing\n",
    "import pandas as pd\n",
    "import numpy as np\n",
    "from datetime import datetime\n",
    "from matplotlib import pyplot as plt\n",
    "\n",
    "# packages for linear model\n",
    "import statsmodels\n",
    "import statsmodels.formula.api as smf\n",
    "import statsmodels.api as sm"
   ]
  },
  {
   "cell_type": "code",
   "execution_count": 2,
   "metadata": {},
   "outputs": [],
   "source": [
    "# convert date into datetime type\n",
    "def parse_date(string):\n",
    "    month, day, year = string.split('/')\n",
    "    return datetime(int(year), int(month), int(day))\n",
    "\n",
    "# extract number of days from datetime\n",
    "def stay(time):\n",
    "    return time.days\n",
    "\n",
    "def remove_HUD(string):\n",
    "    return string[:-6]"
   ]
  },
  {
   "cell_type": "code",
   "execution_count": 3,
   "metadata": {},
   "outputs": [],
   "source": [
    "# read and select data with parameters of interest\n",
    "client_background = [\"Client ID\", \"Client Age at Entry\", \"Client Gender\", \"Client Primary Race\", \"Client Ethnicity\", \"Client Veteran Status\"]\n",
    "duration_interest = ['Client ID', 'Entry Date', 'Exit Date']\n",
    "client = pd.read_csv(\"https://raw.githubusercontent.com/datasci611/bios611-projects-fall-2019-Jianqiao-Wang/master/project_3/data/CLIENT_191102.tsv\", sep=\"\\t\")[client_background]\n",
    "duration = pd.read_csv(\"https://raw.githubusercontent.com/datasci611/bios611-projects-fall-2019-Jianqiao-Wang/master/project_3/data/ENTRY_EXIT_191102.tsv\", sep=\"\\t\")[duration_interest]"
   ]
  },
  {
   "cell_type": "code",
   "execution_count": 4,
   "metadata": {},
   "outputs": [],
   "source": [
    "# join two datasets by client ID\n",
    "data = pd.concat([duration, client], axis=1, join=\"inner\")\n",
    "\n",
    "# replace cells with NAN\n",
    "data.replace('Data not collected (HUD)', np.nan, inplace=True)\n",
    "data.replace(\"Client doesn't know (HUD)\", np.nan, inplace=True)\n",
    "data.replace('Client refused (HUD)', np.nan, inplace=True)\n",
    "\n",
    "# remove missing data\n",
    "data.dropna(inplace=True)\n",
    "\n",
    "# calculate duration of people\n",
    "data[\"Entry Date\"] = data[\"Entry Date\"].apply(parse_date)\n",
    "data[\"Exit Date\"] = data[\"Exit Date\"].apply(parse_date)\n",
    "data[\"duration\"] = (data[\"Exit Date\"] - data[\"Entry Date\"]).apply(stay)\n",
    "data = data.loc[data['duration']>0]\n",
    "\n",
    "# rename some column names for later analysis\n",
    "data.rename(columns={\"Client Primary Race\": \"Race\", \n",
    "                     \"Client Ethnicity\": \"Ethnicity\", \n",
    "                     \"Client Veteran Status\": \"VeteranStatus\", \n",
    "                     \"Client Age at Entry\": \"Age\", \n",
    "                     \"Client Gender\": \"Gender\"}, inplace=True)\n",
    "\n",
    "# remove HUD tail\n",
    "data[\"Race\"]=data[\"Race\"].apply(remove_HUD)\n",
    "data[\"Ethnicity\"]=data[\"Ethnicity\"].apply(remove_HUD)\n",
    "data[\"VeteranStatus\"]=data[\"VeteranStatus\"].apply(remove_HUD)"
   ]
  },
  {
   "cell_type": "code",
   "execution_count": 5,
   "metadata": {},
   "outputs": [],
   "source": [
    "# save data\n",
    "data.to_csv(\"duration.csv\")"
   ]
  },
  {
   "cell_type": "code",
   "execution_count": 6,
   "metadata": {
    "scrolled": true
   },
   "outputs": [
    {
     "name": "stderr",
     "output_type": "stream",
     "text": [
      "/Users/jianqiaowang/anaconda/anaconda3/lib/python3.7/site-packages/statsmodels/genmod/generalized_linear_model.py:273: DomainWarning: The inverse_power link function does not respect the domain of the Gamma family.\n",
      "  DomainWarning)\n"
     ]
    },
    {
     "data": {
      "text/html": [
       "<table class=\"simpletable\">\n",
       "<caption>Generalized Linear Model Regression Results</caption>\n",
       "<tr>\n",
       "  <th>Dep. Variable:</th>       <td>duration</td>     <th>  No. Observations:  </th>  <td>  5125</td> \n",
       "</tr>\n",
       "<tr>\n",
       "  <th>Model:</th>                  <td>GLM</td>       <th>  Df Residuals:      </th>  <td>  5115</td> \n",
       "</tr>\n",
       "<tr>\n",
       "  <th>Model Family:</th>          <td>Gamma</td>      <th>  Df Model:          </th>  <td>     9</td> \n",
       "</tr>\n",
       "<tr>\n",
       "  <th>Link Function:</th>     <td>inverse_power</td>  <th>  Scale:             </th> <td>  2.4269</td>\n",
       "</tr>\n",
       "<tr>\n",
       "  <th>Method:</th>                <td>IRLS</td>       <th>  Log-Likelihood:    </th> <td> -23873.</td>\n",
       "</tr>\n",
       "<tr>\n",
       "  <th>Date:</th>            <td>Mon, 18 Nov 2019</td> <th>  Deviance:          </th> <td>  9584.0</td>\n",
       "</tr>\n",
       "<tr>\n",
       "  <th>Time:</th>                <td>00:33:12</td>     <th>  Pearson chi2:      </th> <td>1.24e+04</td>\n",
       "</tr>\n",
       "<tr>\n",
       "  <th>No. Iterations:</th>          <td>9</td>        <th>                     </th>     <td> </td>   \n",
       "</tr>\n",
       "<tr>\n",
       "  <th>Covariance Type:</th>     <td>nonrobust</td>    <th>                     </th>     <td> </td>   \n",
       "</tr>\n",
       "</table>\n",
       "<table class=\"simpletable\">\n",
       "<tr>\n",
       "                          <td></td>                             <th>coef</th>     <th>std err</th>      <th>z</th>      <th>P>|z|</th>  <th>[0.025</th>    <th>0.975]</th>  \n",
       "</tr>\n",
       "<tr>\n",
       "  <th>Intercept</th>                                         <td>    0.0474</td> <td>    0.006</td> <td>    7.492</td> <td> 0.000</td> <td>    0.035</td> <td>    0.060</td>\n",
       "</tr>\n",
       "<tr>\n",
       "  <th>Gender[T.Male]</th>                                    <td>    0.0034</td> <td>    0.001</td> <td>    2.843</td> <td> 0.004</td> <td>    0.001</td> <td>    0.006</td>\n",
       "</tr>\n",
       "<tr>\n",
       "  <th>Gender[T.Trans Female (MTF or Male to Female)]</th>    <td>    0.0042</td> <td>    0.012</td> <td>    0.355</td> <td> 0.723</td> <td>   -0.019</td> <td>    0.028</td>\n",
       "</tr>\n",
       "<tr>\n",
       "  <th>Ethnicity[T.Non-Hispanic/Non-Latino]</th>              <td>   -0.0099</td> <td>    0.004</td> <td>   -2.240</td> <td> 0.025</td> <td>   -0.018</td> <td>   -0.001</td>\n",
       "</tr>\n",
       "<tr>\n",
       "  <th>Race[T.Asian]</th>                                     <td>   -0.0128</td> <td>    0.016</td> <td>   -0.793</td> <td> 0.428</td> <td>   -0.044</td> <td>    0.019</td>\n",
       "</tr>\n",
       "<tr>\n",
       "  <th>Race[T.Black or African American]</th>                 <td>    0.0007</td> <td>    0.004</td> <td>    0.177</td> <td> 0.859</td> <td>   -0.007</td> <td>    0.009</td>\n",
       "</tr>\n",
       "<tr>\n",
       "  <th>Race[T.Native Hawaiian or Other Pacific Islander]</th> <td>    0.0058</td> <td>    0.018</td> <td>    0.322</td> <td> 0.748</td> <td>   -0.029</td> <td>    0.041</td>\n",
       "</tr>\n",
       "<tr>\n",
       "  <th>Race[T.White]</th>                                     <td>    0.0027</td> <td>    0.004</td> <td>    0.651</td> <td> 0.515</td> <td>   -0.005</td> <td>    0.011</td>\n",
       "</tr>\n",
       "<tr>\n",
       "  <th>VeteranStatus[T.Yes]</th>                              <td>    0.0041</td> <td>    0.002</td> <td>    2.181</td> <td> 0.029</td> <td>    0.000</td> <td>    0.008</td>\n",
       "</tr>\n",
       "<tr>\n",
       "  <th>Age</th>                                               <td>   -0.0004</td> <td> 4.39e-05</td> <td>   -8.237</td> <td> 0.000</td> <td>   -0.000</td> <td>   -0.000</td>\n",
       "</tr>\n",
       "</table>"
      ],
      "text/plain": [
       "<class 'statsmodels.iolib.summary.Summary'>\n",
       "\"\"\"\n",
       "                 Generalized Linear Model Regression Results                  \n",
       "==============================================================================\n",
       "Dep. Variable:               duration   No. Observations:                 5125\n",
       "Model:                            GLM   Df Residuals:                     5115\n",
       "Model Family:                   Gamma   Df Model:                            9\n",
       "Link Function:          inverse_power   Scale:                          2.4269\n",
       "Method:                          IRLS   Log-Likelihood:                -23873.\n",
       "Date:                Mon, 18 Nov 2019   Deviance:                       9584.0\n",
       "Time:                        00:33:12   Pearson chi2:                 1.24e+04\n",
       "No. Iterations:                     9                                         \n",
       "Covariance Type:            nonrobust                                         \n",
       "=====================================================================================================================\n",
       "                                                        coef    std err          z      P>|z|      [0.025      0.975]\n",
       "---------------------------------------------------------------------------------------------------------------------\n",
       "Intercept                                             0.0474      0.006      7.492      0.000       0.035       0.060\n",
       "Gender[T.Male]                                        0.0034      0.001      2.843      0.004       0.001       0.006\n",
       "Gender[T.Trans Female (MTF or Male to Female)]        0.0042      0.012      0.355      0.723      -0.019       0.028\n",
       "Ethnicity[T.Non-Hispanic/Non-Latino]                 -0.0099      0.004     -2.240      0.025      -0.018      -0.001\n",
       "Race[T.Asian]                                        -0.0128      0.016     -0.793      0.428      -0.044       0.019\n",
       "Race[T.Black or African American]                     0.0007      0.004      0.177      0.859      -0.007       0.009\n",
       "Race[T.Native Hawaiian or Other Pacific Islander]     0.0058      0.018      0.322      0.748      -0.029       0.041\n",
       "Race[T.White]                                         0.0027      0.004      0.651      0.515      -0.005       0.011\n",
       "VeteranStatus[T.Yes]                                  0.0041      0.002      2.181      0.029       0.000       0.008\n",
       "Age                                                  -0.0004   4.39e-05     -8.237      0.000      -0.000      -0.000\n",
       "=====================================================================================================================\n",
       "\"\"\""
      ]
     },
     "execution_count": 6,
     "metadata": {},
     "output_type": "execute_result"
    }
   ],
   "source": [
    "# gamma regression to test effect of different covariates\n",
    "model = smf.glm(formula='duration~Age+Gender+Ethnicity+Race+VeteranStatus', \n",
    "                family=sm.families.Gamma(), data=data,).fit()\n",
    "model.summary()"
   ]
  },
  {
   "cell_type": "code",
   "execution_count": null,
   "metadata": {},
   "outputs": [],
   "source": []
  }
 ],
 "metadata": {
  "kernelspec": {
   "display_name": "Python 3",
   "language": "python",
   "name": "python3"
  },
  "language_info": {
   "codemirror_mode": {
    "name": "ipython",
    "version": 3
   },
   "file_extension": ".py",
   "mimetype": "text/x-python",
   "name": "python",
   "nbconvert_exporter": "python",
   "pygments_lexer": "ipython3",
   "version": "3.7.3"
  }
 },
 "nbformat": 4,
 "nbformat_minor": 2
}
